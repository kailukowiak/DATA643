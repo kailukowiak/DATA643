{
 "cells": [
  {
   "cell_type": "markdown",
   "metadata": {
    "ein.tags": "worksheet-0",
    "slideshow": {
     "slide_type": "-"
    }
   },
   "source": [
    "# This Recomender Systems\n",
    "## Assignment 1\n",
    "\n",
    "\n",
    "This project's goal is to build a joke recomender system to make us laugh in\n",
    "these trying times.\n",
    "\n",
    "I downloaded the dataset from [this](http://eigentaste.berkeley.edu/dataset/) site.\n",
    "The dataset is quite wide at 151 rows.\n",
    "\n"
   ]
  },
  {
   "cell_type": "code",
   "execution_count": 66,
   "metadata": {
    "autoscroll": false,
    "ein.hycell": false,
    "ein.tags": "worksheet-0",
    "slideshow": {
     "slide_type": "-"
    }
   },
   "outputs": [],
   "source": [
    "import pandas as pd\n",
    "import numpy as np\n",
    "df = pd.read_excel('jester-data-1.xls', header=None)\n"
   ]
  },
  {
   "cell_type": "code",
   "execution_count": 67,
   "metadata": {
    "autoscroll": false,
    "ein.hycell": false,
    "ein.tags": "worksheet-0",
    "slideshow": {
     "slide_type": "-"
    }
   },
   "outputs": [
    {
     "data": {
      "text/html": [
       "<div>\n",
       "<style>\n",
       "    .dataframe thead tr:only-child th {\n",
       "        text-align: right;\n",
       "    }\n",
       "\n",
       "    .dataframe thead th {\n",
       "        text-align: left;\n",
       "    }\n",
       "\n",
       "    .dataframe tbody tr th {\n",
       "        vertical-align: top;\n",
       "    }\n",
       "</style>\n",
       "<table border=\"1\" class=\"dataframe\">\n",
       "  <thead>\n",
       "    <tr style=\"text-align: right;\">\n",
       "      <th></th>\n",
       "      <th>0</th>\n",
       "      <th>1</th>\n",
       "      <th>2</th>\n",
       "      <th>3</th>\n",
       "      <th>4</th>\n",
       "      <th>5</th>\n",
       "      <th>6</th>\n",
       "      <th>7</th>\n",
       "      <th>8</th>\n",
       "      <th>9</th>\n",
       "    </tr>\n",
       "  </thead>\n",
       "  <tbody>\n",
       "    <tr>\n",
       "      <th>0</th>\n",
       "      <td>74</td>\n",
       "      <td>-7.82</td>\n",
       "      <td>8.79</td>\n",
       "      <td>-9.66</td>\n",
       "      <td>-8.16</td>\n",
       "      <td>-7.52</td>\n",
       "      <td>-8.50</td>\n",
       "      <td>-9.85</td>\n",
       "      <td>4.17</td>\n",
       "      <td>-8.98</td>\n",
       "    </tr>\n",
       "    <tr>\n",
       "      <th>1</th>\n",
       "      <td>100</td>\n",
       "      <td>4.08</td>\n",
       "      <td>-0.29</td>\n",
       "      <td>6.36</td>\n",
       "      <td>4.37</td>\n",
       "      <td>-2.38</td>\n",
       "      <td>-9.66</td>\n",
       "      <td>-0.73</td>\n",
       "      <td>-5.34</td>\n",
       "      <td>8.88</td>\n",
       "    </tr>\n",
       "    <tr>\n",
       "      <th>2</th>\n",
       "      <td>49</td>\n",
       "      <td>99.00</td>\n",
       "      <td>99.00</td>\n",
       "      <td>99.00</td>\n",
       "      <td>99.00</td>\n",
       "      <td>9.03</td>\n",
       "      <td>9.27</td>\n",
       "      <td>9.03</td>\n",
       "      <td>9.27</td>\n",
       "      <td>99.00</td>\n",
       "    </tr>\n",
       "    <tr>\n",
       "      <th>3</th>\n",
       "      <td>48</td>\n",
       "      <td>99.00</td>\n",
       "      <td>8.35</td>\n",
       "      <td>99.00</td>\n",
       "      <td>99.00</td>\n",
       "      <td>1.80</td>\n",
       "      <td>8.16</td>\n",
       "      <td>-2.82</td>\n",
       "      <td>6.21</td>\n",
       "      <td>99.00</td>\n",
       "    </tr>\n",
       "    <tr>\n",
       "      <th>4</th>\n",
       "      <td>91</td>\n",
       "      <td>8.50</td>\n",
       "      <td>4.61</td>\n",
       "      <td>-4.17</td>\n",
       "      <td>-5.39</td>\n",
       "      <td>1.36</td>\n",
       "      <td>1.60</td>\n",
       "      <td>7.04</td>\n",
       "      <td>4.61</td>\n",
       "      <td>-0.44</td>\n",
       "    </tr>\n",
       "  </tbody>\n",
       "</table>\n",
       "</div>"
      ],
      "text/plain": [
       "     0      1      2      3      4     5     6     7     8      9\n",
       "0   74  -7.82   8.79  -9.66  -8.16 -7.52 -8.50 -9.85  4.17  -8.98\n",
       "1  100   4.08  -0.29   6.36   4.37 -2.38 -9.66 -0.73 -5.34   8.88\n",
       "2   49  99.00  99.00  99.00  99.00  9.03  9.27  9.03  9.27  99.00\n",
       "3   48  99.00   8.35  99.00  99.00  1.80  8.16 -2.82  6.21  99.00\n",
       "4   91   8.50   4.61  -4.17  -5.39  1.36  1.60  7.04  4.61  -0.44"
      ]
     },
     "execution_count": 67,
     "metadata": {},
     "output_type": "execute_result"
    }
   ],
   "source": [
    "df.iloc[0:5, 0:10]"
   ]
  },
  {
   "cell_type": "code",
   "execution_count": 68,
   "metadata": {
    "autoscroll": false,
    "ein.hycell": false,
    "ein.tags": "worksheet-0",
    "slideshow": {
     "slide_type": "-"
    }
   },
   "outputs": [
    {
     "data": {
      "text/plain": [
       "(24983, 101)"
      ]
     },
     "execution_count": 68,
     "metadata": {},
     "output_type": "execute_result"
    }
   ],
   "source": [
    "df.shape\n"
   ]
  },
  {
   "cell_type": "markdown",
   "metadata": {
    "ein.tags": "worksheet-0",
    "slideshow": {
     "slide_type": "-"
    }
   },
   "source": [
    "The dataset contains 100 jokes as well the count of the ratings. The user ID is given by the pandas index"
   ]
  },
  {
   "cell_type": "code",
   "execution_count": 74,
   "metadata": {},
   "outputs": [
    {
     "data": {
      "text/html": [
       "\n",
       "    <div class=\"bk-root\">\n",
       "        <a href=\"https://bokeh.pydata.org\" target=\"_blank\" class=\"bk-logo bk-logo-small bk-logo-notebook\"></a>\n",
       "        <span id=\"fe5a37f9-0fea-432b-9a77-07edac8efe1b\">Loading BokehJS ...</span>\n",
       "    </div>"
      ]
     },
     "metadata": {},
     "output_type": "display_data"
    },
    {
     "data": {
      "application/javascript": [
       "\n",
       "(function(root) {\n",
       "  function now() {\n",
       "    return new Date();\n",
       "  }\n",
       "\n",
       "  var force = true;\n",
       "\n",
       "  if (typeof (root._bokeh_onload_callbacks) === \"undefined\" || force === true) {\n",
       "    root._bokeh_onload_callbacks = [];\n",
       "    root._bokeh_is_loading = undefined;\n",
       "  }\n",
       "\n",
       "  var JS_MIME_TYPE = 'application/javascript';\n",
       "  var HTML_MIME_TYPE = 'text/html';\n",
       "  var EXEC_MIME_TYPE = 'application/vnd.bokehjs_exec.v0+json';\n",
       "  var CLASS_NAME = 'output_bokeh rendered_html';\n",
       "\n",
       "  /**\n",
       "   * Render data to the DOM node\n",
       "   */\n",
       "  function render(props, node) {\n",
       "    var script = document.createElement(\"script\");\n",
       "    node.appendChild(script);\n",
       "  }\n",
       "\n",
       "  /**\n",
       "   * Handle when an output is cleared or removed\n",
       "   */\n",
       "  function handleClearOutput(event, handle) {\n",
       "    var cell = handle.cell;\n",
       "\n",
       "    var id = cell.output_area._bokeh_element_id;\n",
       "    var server_id = cell.output_area._bokeh_server_id;\n",
       "    // Clean up Bokeh references\n",
       "    if (id !== undefined) {\n",
       "      Bokeh.index[id].model.document.clear();\n",
       "      delete Bokeh.index[id];\n",
       "    }\n",
       "\n",
       "    if (server_id !== undefined) {\n",
       "      // Clean up Bokeh references\n",
       "      var cmd = \"from bokeh.io.state import curstate; print(curstate().uuid_to_server['\" + server_id + \"'].get_sessions()[0].document.roots[0]._id)\";\n",
       "      cell.notebook.kernel.execute(cmd, {\n",
       "        iopub: {\n",
       "          output: function(msg) {\n",
       "            var element_id = msg.content.text.trim();\n",
       "            Bokeh.index[element_id].model.document.clear();\n",
       "            delete Bokeh.index[element_id];\n",
       "          }\n",
       "        }\n",
       "      });\n",
       "      // Destroy server and session\n",
       "      var cmd = \"import bokeh.io.notebook as ion; ion.destroy_server('\" + server_id + \"')\";\n",
       "      cell.notebook.kernel.execute(cmd);\n",
       "    }\n",
       "  }\n",
       "\n",
       "  /**\n",
       "   * Handle when a new output is added\n",
       "   */\n",
       "  function handleAddOutput(event, handle) {\n",
       "    var output_area = handle.output_area;\n",
       "    var output = handle.output;\n",
       "\n",
       "    // limit handleAddOutput to display_data with EXEC_MIME_TYPE content only\n",
       "    if ((output.output_type != \"display_data\") || (!output.data.hasOwnProperty(EXEC_MIME_TYPE))) {\n",
       "      return\n",
       "    }\n",
       "\n",
       "    var toinsert = output_area.element.find(\".\" + CLASS_NAME.split(' ')[0]);\n",
       "\n",
       "    if (output.metadata[EXEC_MIME_TYPE][\"id\"] !== undefined) {\n",
       "      toinsert[toinsert.length - 1].firstChild.textContent = output.data[JS_MIME_TYPE];\n",
       "      // store reference to embed id on output_area\n",
       "      output_area._bokeh_element_id = output.metadata[EXEC_MIME_TYPE][\"id\"];\n",
       "    }\n",
       "    if (output.metadata[EXEC_MIME_TYPE][\"server_id\"] !== undefined) {\n",
       "      var bk_div = document.createElement(\"div\");\n",
       "      bk_div.innerHTML = output.data[HTML_MIME_TYPE];\n",
       "      var script_attrs = bk_div.children[0].attributes;\n",
       "      for (var i = 0; i < script_attrs.length; i++) {\n",
       "        toinsert[toinsert.length - 1].firstChild.setAttribute(script_attrs[i].name, script_attrs[i].value);\n",
       "      }\n",
       "      // store reference to server id on output_area\n",
       "      output_area._bokeh_server_id = output.metadata[EXEC_MIME_TYPE][\"server_id\"];\n",
       "    }\n",
       "  }\n",
       "\n",
       "  function register_renderer(events, OutputArea) {\n",
       "\n",
       "    function append_mime(data, metadata, element) {\n",
       "      // create a DOM node to render to\n",
       "      var toinsert = this.create_output_subarea(\n",
       "        metadata,\n",
       "        CLASS_NAME,\n",
       "        EXEC_MIME_TYPE\n",
       "      );\n",
       "      this.keyboard_manager.register_events(toinsert);\n",
       "      // Render to node\n",
       "      var props = {data: data, metadata: metadata[EXEC_MIME_TYPE]};\n",
       "      render(props, toinsert[toinsert.length - 1]);\n",
       "      element.append(toinsert);\n",
       "      return toinsert\n",
       "    }\n",
       "\n",
       "    /* Handle when an output is cleared or removed */\n",
       "    events.on('clear_output.CodeCell', handleClearOutput);\n",
       "    events.on('delete.Cell', handleClearOutput);\n",
       "\n",
       "    /* Handle when a new output is added */\n",
       "    events.on('output_added.OutputArea', handleAddOutput);\n",
       "\n",
       "    /**\n",
       "     * Register the mime type and append_mime function with output_area\n",
       "     */\n",
       "    OutputArea.prototype.register_mime_type(EXEC_MIME_TYPE, append_mime, {\n",
       "      /* Is output safe? */\n",
       "      safe: true,\n",
       "      /* Index of renderer in `output_area.display_order` */\n",
       "      index: 0\n",
       "    });\n",
       "  }\n",
       "\n",
       "  // register the mime type if in Jupyter Notebook environment and previously unregistered\n",
       "  if (root.Jupyter !== undefined) {\n",
       "    var events = require('base/js/events');\n",
       "    var OutputArea = require('notebook/js/outputarea').OutputArea;\n",
       "\n",
       "    if (OutputArea.prototype.mime_types().indexOf(EXEC_MIME_TYPE) == -1) {\n",
       "      register_renderer(events, OutputArea);\n",
       "    }\n",
       "  }\n",
       "\n",
       "  \n",
       "  if (typeof (root._bokeh_timeout) === \"undefined\" || force === true) {\n",
       "    root._bokeh_timeout = Date.now() + 5000;\n",
       "    root._bokeh_failed_load = false;\n",
       "  }\n",
       "\n",
       "  var NB_LOAD_WARNING = {'data': {'text/html':\n",
       "     \"<div style='background-color: #fdd'>\\n\"+\n",
       "     \"<p>\\n\"+\n",
       "     \"BokehJS does not appear to have successfully loaded. If loading BokehJS from CDN, this \\n\"+\n",
       "     \"may be due to a slow or bad network connection. Possible fixes:\\n\"+\n",
       "     \"</p>\\n\"+\n",
       "     \"<ul>\\n\"+\n",
       "     \"<li>re-rerun `output_notebook()` to attempt to load from CDN again, or</li>\\n\"+\n",
       "     \"<li>use INLINE resources instead, as so:</li>\\n\"+\n",
       "     \"</ul>\\n\"+\n",
       "     \"<code>\\n\"+\n",
       "     \"from bokeh.resources import INLINE\\n\"+\n",
       "     \"output_notebook(resources=INLINE)\\n\"+\n",
       "     \"</code>\\n\"+\n",
       "     \"</div>\"}};\n",
       "\n",
       "  function display_loaded() {\n",
       "    var el = document.getElementById(\"fe5a37f9-0fea-432b-9a77-07edac8efe1b\");\n",
       "    if (el != null) {\n",
       "      el.textContent = \"BokehJS is loading...\";\n",
       "    }\n",
       "    if (root.Bokeh !== undefined) {\n",
       "      if (el != null) {\n",
       "        el.textContent = \"BokehJS \" + root.Bokeh.version + \" successfully loaded.\";\n",
       "      }\n",
       "    } else if (Date.now() < root._bokeh_timeout) {\n",
       "      setTimeout(display_loaded, 100)\n",
       "    }\n",
       "  }\n",
       "\n",
       "\n",
       "  function run_callbacks() {\n",
       "    try {\n",
       "      root._bokeh_onload_callbacks.forEach(function(callback) { callback() });\n",
       "    }\n",
       "    finally {\n",
       "      delete root._bokeh_onload_callbacks\n",
       "    }\n",
       "    console.info(\"Bokeh: all callbacks have finished\");\n",
       "  }\n",
       "\n",
       "  function load_libs(js_urls, callback) {\n",
       "    root._bokeh_onload_callbacks.push(callback);\n",
       "    if (root._bokeh_is_loading > 0) {\n",
       "      console.log(\"Bokeh: BokehJS is being loaded, scheduling callback at\", now());\n",
       "      return null;\n",
       "    }\n",
       "    if (js_urls == null || js_urls.length === 0) {\n",
       "      run_callbacks();\n",
       "      return null;\n",
       "    }\n",
       "    console.log(\"Bokeh: BokehJS not loaded, scheduling load and callback at\", now());\n",
       "    root._bokeh_is_loading = js_urls.length;\n",
       "    for (var i = 0; i < js_urls.length; i++) {\n",
       "      var url = js_urls[i];\n",
       "      var s = document.createElement('script');\n",
       "      s.src = url;\n",
       "      s.async = false;\n",
       "      s.onreadystatechange = s.onload = function() {\n",
       "        root._bokeh_is_loading--;\n",
       "        if (root._bokeh_is_loading === 0) {\n",
       "          console.log(\"Bokeh: all BokehJS libraries loaded\");\n",
       "          run_callbacks()\n",
       "        }\n",
       "      };\n",
       "      s.onerror = function() {\n",
       "        console.warn(\"failed to load library \" + url);\n",
       "      };\n",
       "      console.log(\"Bokeh: injecting script tag for BokehJS library: \", url);\n",
       "      document.getElementsByTagName(\"head\")[0].appendChild(s);\n",
       "    }\n",
       "  };var element = document.getElementById(\"fe5a37f9-0fea-432b-9a77-07edac8efe1b\");\n",
       "  if (element == null) {\n",
       "    console.log(\"Bokeh: ERROR: autoload.js configured with elementid 'fe5a37f9-0fea-432b-9a77-07edac8efe1b' but no matching script tag was found. \")\n",
       "    return false;\n",
       "  }\n",
       "\n",
       "  var js_urls = [\"https://cdn.pydata.org/bokeh/release/bokeh-0.12.16.min.js\", \"https://cdn.pydata.org/bokeh/release/bokeh-widgets-0.12.16.min.js\", \"https://cdn.pydata.org/bokeh/release/bokeh-tables-0.12.16.min.js\", \"https://cdn.pydata.org/bokeh/release/bokeh-gl-0.12.16.min.js\"];\n",
       "\n",
       "  var inline_js = [\n",
       "    function(Bokeh) {\n",
       "      Bokeh.set_log_level(\"info\");\n",
       "    },\n",
       "    \n",
       "    function(Bokeh) {\n",
       "      \n",
       "    },\n",
       "    function(Bokeh) {\n",
       "      console.log(\"Bokeh: injecting CSS: https://cdn.pydata.org/bokeh/release/bokeh-0.12.16.min.css\");\n",
       "      Bokeh.embed.inject_css(\"https://cdn.pydata.org/bokeh/release/bokeh-0.12.16.min.css\");\n",
       "      console.log(\"Bokeh: injecting CSS: https://cdn.pydata.org/bokeh/release/bokeh-widgets-0.12.16.min.css\");\n",
       "      Bokeh.embed.inject_css(\"https://cdn.pydata.org/bokeh/release/bokeh-widgets-0.12.16.min.css\");\n",
       "      console.log(\"Bokeh: injecting CSS: https://cdn.pydata.org/bokeh/release/bokeh-tables-0.12.16.min.css\");\n",
       "      Bokeh.embed.inject_css(\"https://cdn.pydata.org/bokeh/release/bokeh-tables-0.12.16.min.css\");\n",
       "    }\n",
       "  ];\n",
       "\n",
       "  function run_inline_js() {\n",
       "    \n",
       "    if ((root.Bokeh !== undefined) || (force === true)) {\n",
       "      for (var i = 0; i < inline_js.length; i++) {\n",
       "        inline_js[i].call(root, root.Bokeh);\n",
       "      }if (force === true) {\n",
       "        display_loaded();\n",
       "      }} else if (Date.now() < root._bokeh_timeout) {\n",
       "      setTimeout(run_inline_js, 100);\n",
       "    } else if (!root._bokeh_failed_load) {\n",
       "      console.log(\"Bokeh: BokehJS failed to load within specified timeout.\");\n",
       "      root._bokeh_failed_load = true;\n",
       "    } else if (force !== true) {\n",
       "      var cell = $(document.getElementById(\"fe5a37f9-0fea-432b-9a77-07edac8efe1b\")).parents('.cell').data().cell;\n",
       "      cell.output_area.append_execute_result(NB_LOAD_WARNING)\n",
       "    }\n",
       "\n",
       "  }\n",
       "\n",
       "  if (root._bokeh_is_loading === 0) {\n",
       "    console.log(\"Bokeh: BokehJS loaded, going straight to plotting\");\n",
       "    run_inline_js();\n",
       "  } else {\n",
       "    load_libs(js_urls, function() {\n",
       "      console.log(\"Bokeh: BokehJS plotting callback run at\", now());\n",
       "      run_inline_js();\n",
       "    });\n",
       "  }\n",
       "}(window));"
      ],
      "application/vnd.bokehjs_load.v0+json": "\n(function(root) {\n  function now() {\n    return new Date();\n  }\n\n  var force = true;\n\n  if (typeof (root._bokeh_onload_callbacks) === \"undefined\" || force === true) {\n    root._bokeh_onload_callbacks = [];\n    root._bokeh_is_loading = undefined;\n  }\n\n  \n\n  \n  if (typeof (root._bokeh_timeout) === \"undefined\" || force === true) {\n    root._bokeh_timeout = Date.now() + 5000;\n    root._bokeh_failed_load = false;\n  }\n\n  var NB_LOAD_WARNING = {'data': {'text/html':\n     \"<div style='background-color: #fdd'>\\n\"+\n     \"<p>\\n\"+\n     \"BokehJS does not appear to have successfully loaded. If loading BokehJS from CDN, this \\n\"+\n     \"may be due to a slow or bad network connection. Possible fixes:\\n\"+\n     \"</p>\\n\"+\n     \"<ul>\\n\"+\n     \"<li>re-rerun `output_notebook()` to attempt to load from CDN again, or</li>\\n\"+\n     \"<li>use INLINE resources instead, as so:</li>\\n\"+\n     \"</ul>\\n\"+\n     \"<code>\\n\"+\n     \"from bokeh.resources import INLINE\\n\"+\n     \"output_notebook(resources=INLINE)\\n\"+\n     \"</code>\\n\"+\n     \"</div>\"}};\n\n  function display_loaded() {\n    var el = document.getElementById(\"fe5a37f9-0fea-432b-9a77-07edac8efe1b\");\n    if (el != null) {\n      el.textContent = \"BokehJS is loading...\";\n    }\n    if (root.Bokeh !== undefined) {\n      if (el != null) {\n        el.textContent = \"BokehJS \" + root.Bokeh.version + \" successfully loaded.\";\n      }\n    } else if (Date.now() < root._bokeh_timeout) {\n      setTimeout(display_loaded, 100)\n    }\n  }\n\n\n  function run_callbacks() {\n    try {\n      root._bokeh_onload_callbacks.forEach(function(callback) { callback() });\n    }\n    finally {\n      delete root._bokeh_onload_callbacks\n    }\n    console.info(\"Bokeh: all callbacks have finished\");\n  }\n\n  function load_libs(js_urls, callback) {\n    root._bokeh_onload_callbacks.push(callback);\n    if (root._bokeh_is_loading > 0) {\n      console.log(\"Bokeh: BokehJS is being loaded, scheduling callback at\", now());\n      return null;\n    }\n    if (js_urls == null || js_urls.length === 0) {\n      run_callbacks();\n      return null;\n    }\n    console.log(\"Bokeh: BokehJS not loaded, scheduling load and callback at\", now());\n    root._bokeh_is_loading = js_urls.length;\n    for (var i = 0; i < js_urls.length; i++) {\n      var url = js_urls[i];\n      var s = document.createElement('script');\n      s.src = url;\n      s.async = false;\n      s.onreadystatechange = s.onload = function() {\n        root._bokeh_is_loading--;\n        if (root._bokeh_is_loading === 0) {\n          console.log(\"Bokeh: all BokehJS libraries loaded\");\n          run_callbacks()\n        }\n      };\n      s.onerror = function() {\n        console.warn(\"failed to load library \" + url);\n      };\n      console.log(\"Bokeh: injecting script tag for BokehJS library: \", url);\n      document.getElementsByTagName(\"head\")[0].appendChild(s);\n    }\n  };var element = document.getElementById(\"fe5a37f9-0fea-432b-9a77-07edac8efe1b\");\n  if (element == null) {\n    console.log(\"Bokeh: ERROR: autoload.js configured with elementid 'fe5a37f9-0fea-432b-9a77-07edac8efe1b' but no matching script tag was found. \")\n    return false;\n  }\n\n  var js_urls = [\"https://cdn.pydata.org/bokeh/release/bokeh-0.12.16.min.js\", \"https://cdn.pydata.org/bokeh/release/bokeh-widgets-0.12.16.min.js\", \"https://cdn.pydata.org/bokeh/release/bokeh-tables-0.12.16.min.js\", \"https://cdn.pydata.org/bokeh/release/bokeh-gl-0.12.16.min.js\"];\n\n  var inline_js = [\n    function(Bokeh) {\n      Bokeh.set_log_level(\"info\");\n    },\n    \n    function(Bokeh) {\n      \n    },\n    function(Bokeh) {\n      console.log(\"Bokeh: injecting CSS: https://cdn.pydata.org/bokeh/release/bokeh-0.12.16.min.css\");\n      Bokeh.embed.inject_css(\"https://cdn.pydata.org/bokeh/release/bokeh-0.12.16.min.css\");\n      console.log(\"Bokeh: injecting CSS: https://cdn.pydata.org/bokeh/release/bokeh-widgets-0.12.16.min.css\");\n      Bokeh.embed.inject_css(\"https://cdn.pydata.org/bokeh/release/bokeh-widgets-0.12.16.min.css\");\n      console.log(\"Bokeh: injecting CSS: https://cdn.pydata.org/bokeh/release/bokeh-tables-0.12.16.min.css\");\n      Bokeh.embed.inject_css(\"https://cdn.pydata.org/bokeh/release/bokeh-tables-0.12.16.min.css\");\n    }\n  ];\n\n  function run_inline_js() {\n    \n    if ((root.Bokeh !== undefined) || (force === true)) {\n      for (var i = 0; i < inline_js.length; i++) {\n        inline_js[i].call(root, root.Bokeh);\n      }if (force === true) {\n        display_loaded();\n      }} else if (Date.now() < root._bokeh_timeout) {\n      setTimeout(run_inline_js, 100);\n    } else if (!root._bokeh_failed_load) {\n      console.log(\"Bokeh: BokehJS failed to load within specified timeout.\");\n      root._bokeh_failed_load = true;\n    } else if (force !== true) {\n      var cell = $(document.getElementById(\"fe5a37f9-0fea-432b-9a77-07edac8efe1b\")).parents('.cell').data().cell;\n      cell.output_area.append_execute_result(NB_LOAD_WARNING)\n    }\n\n  }\n\n  if (root._bokeh_is_loading === 0) {\n    console.log(\"Bokeh: BokehJS loaded, going straight to plotting\");\n    run_inline_js();\n  } else {\n    load_libs(js_urls, function() {\n      console.log(\"Bokeh: BokehJS plotting callback run at\", now());\n      run_inline_js();\n    });\n  }\n}(window));"
     },
     "metadata": {},
     "output_type": "display_data"
    }
   ],
   "source": [
    "from bokeh.io import output_notebook, show\n",
    "from bokeh.plotting import figure\n",
    "\n",
    "output_notebook()"
   ]
  },
  {
   "cell_type": "code",
   "execution_count": 76,
   "metadata": {},
   "outputs": [
    {
     "data": {
      "text/plain": [
       "(array([ 0.02446664,  0.01497268,  0.01437227,  0.01334032,  0.01335908,\n",
       "         0.01384692,  0.01142652,  0.01435351,  0.00988797,  0.00921251,\n",
       "         0.00808675,  0.00803046,  0.00756139,  0.00923128,  0.00806799,\n",
       "         0.0139032 ,  0.05493736,  0.03923293,  0.00904365,  0.00504718,\n",
       "         0.00536615,  0.00424038,  0.0041841 ,  0.00249545,  0.00217648,\n",
       "         0.00266431,  0.00227029,  0.00262679,  0.00240163,  0.1379438 ]),\n",
       " array([  36.        ,   38.13333333,   40.26666667,   42.4       ,\n",
       "          44.53333333,   46.66666667,   48.8       ,   50.93333333,\n",
       "          53.06666667,   55.2       ,   57.33333333,   59.46666667,\n",
       "          61.6       ,   63.73333333,   65.86666667,   68.        ,\n",
       "          70.13333333,   72.26666667,   74.4       ,   76.53333333,\n",
       "          78.66666667,   80.8       ,   82.93333333,   85.06666667,\n",
       "          87.2       ,   89.33333333,   91.46666667,   93.6       ,\n",
       "          95.73333333,   97.86666667,  100.        ]))"
      ]
     },
     "execution_count": 76,
     "metadata": {},
     "output_type": "execute_result"
    }
   ],
   "source": [
    "np.histogram(df[0], density=True, bins=30)"
   ]
  },
  {
   "cell_type": "code",
   "execution_count": 27,
   "metadata": {
    "autoscroll": false,
    "collapsed": true,
    "ein.hycell": false,
    "ein.tags": "worksheet-0",
    "slideshow": {
     "slide_type": "-"
    }
   },
   "outputs": [],
   "source": [
    "jokes = df.iloc[:, 1:].replace(99, np.NAN)\n"
   ]
  },
  {
   "cell_type": "code",
   "execution_count": 82,
   "metadata": {},
   "outputs": [],
   "source": [
    "def remover(p):\n",
    "    # Set axis to invisiable\n",
    "    p.xaxis.axis_line_width = 0.00001\n",
    "    p.yaxis.axis_line_width = 0.00001\n",
    "    # Fonts\n",
    "    p.title.text_font = \"times\"\n",
    "    p.title.text_font_style = \"normal\"\n",
    "    p.xaxis.axis_label_text_font = 'times'\n",
    "    p.xaxis.axis_label_text_font_style = 'normal'\n",
    "    p.yaxis.axis_label_text_font = 'times'\n",
    "    p.yaxis.axis_label_text_font_style = 'normal'\n",
    "    # This removes the outline of the graph.\n",
    "    p.outline_line_color = None\n",
    "    p.toolbar.logo = None\n",
    "    p.toolbar_location = None\n",
    "    p.xgrid.grid_line_color = None\n",
    "    p.ygrid.grid_line_color = None\n",
    "    return p"
   ]
  },
  {
   "cell_type": "code",
   "execution_count": 88,
   "metadata": {},
   "outputs": [
    {
     "data": {
      "text/plain": [
       "(array([ 0.0179372 ,  0.01351544,  0.01188933,  0.00844324,  0.00828689,\n",
       "         0.0360245 ,  0.00648566,  0.00363998,  0.00237036,  0.04765741]),\n",
       " array([  36. ,   42.4,   48.8,   55.2,   61.6,   68. ,   74.4,   80.8,\n",
       "          87.2,   93.6,  100. ]))"
      ]
     },
     "execution_count": 88,
     "metadata": {},
     "output_type": "execute_result"
    }
   ],
   "source": [
    "np.histogram(df[0], density=True, bins=10)"
   ]
  },
  {
   "cell_type": "code",
   "execution_count": 106,
   "metadata": {},
   "outputs": [
    {
     "data": {
      "text/html": [
       "\n",
       "<div class=\"bk-root\">\n",
       "    <div class=\"bk-plotdiv\" id=\"bff8ce4e-ea26-4ea7-a429-fc47f8fabbf2\"></div>\n",
       "</div>"
      ]
     },
     "metadata": {},
     "output_type": "display_data"
    },
    {
     "data": {
      "application/javascript": [
       "(function(root) {\n",
       "  function embed_document(root) {\n",
       "    \n",
       "  var docs_json = {\"49279aff-c5dc-48f9-8ef7-754457b84fde\":{\"roots\":{\"references\":[{\"attributes\":{},\"id\":\"e4d0ec35-4299-40ac-b342-80d17ac04053\",\"type\":\"BasicTicker\"},{\"attributes\":{\"axis_label\":\"Total Jokes Rated\",\"axis_label_text_font\":\"times\",\"axis_label_text_font_style\":\"normal\",\"axis_line_width\":{\"value\":1e-05},\"formatter\":{\"id\":\"1c61cb89-6af2-4c4d-96b4-f8ea0f3359d9\",\"type\":\"BasicTickFormatter\"},\"plot\":{\"id\":\"8a01eab9-2b46-481e-93fc-56fa3cb8eab8\",\"subtype\":\"Figure\",\"type\":\"Plot\"},\"ticker\":{\"id\":\"33748864-a41f-46ea-a540-ba8eb2fde86d\",\"type\":\"BasicTicker\"}},\"id\":\"971d84fe-5e20-4e71-95e4-1a90265b1abd\",\"type\":\"LinearAxis\"},{\"attributes\":{\"dimension\":1,\"grid_line_color\":{\"value\":null},\"plot\":{\"id\":\"8a01eab9-2b46-481e-93fc-56fa3cb8eab8\",\"subtype\":\"Figure\",\"type\":\"Plot\"},\"ticker\":{\"id\":\"e4d0ec35-4299-40ac-b342-80d17ac04053\",\"type\":\"BasicTicker\"}},\"id\":\"628a9c43-d133-4df4-a284-a8cac27e8e16\",\"type\":\"Grid\"},{\"attributes\":{},\"id\":\"c0ede611-2634-4fef-9e05-1b2fd5dd6746\",\"type\":\"ResetTool\"},{\"attributes\":{},\"id\":\"33748864-a41f-46ea-a540-ba8eb2fde86d\",\"type\":\"BasicTicker\"},{\"attributes\":{},\"id\":\"06a67257-ed3a-417c-9239-e0ab69d6f48d\",\"type\":\"SaveTool\"},{\"attributes\":{},\"id\":\"1c61cb89-6af2-4c4d-96b4-f8ea0f3359d9\",\"type\":\"BasicTickFormatter\"},{\"attributes\":{\"data_source\":{\"id\":\"77fdb327-bdce-4c9e-8c0b-82fe735d3c5a\",\"type\":\"ColumnDataSource\"},\"glyph\":{\"id\":\"e2caed60-cafb-4368-869a-062e42d6465e\",\"type\":\"Quad\"},\"hover_glyph\":null,\"muted_glyph\":null,\"nonselection_glyph\":{\"id\":\"14fd8a46-6855-4bbb-a9fb-368df2eebdc7\",\"type\":\"Quad\"},\"selection_glyph\":null,\"view\":{\"id\":\"5878b614-cf1e-4bff-847a-0facfa5a751d\",\"type\":\"CDSView\"}},\"id\":\"2906c607-4000-4d8e-8d04-c49c4e583fb1\",\"type\":\"GlyphRenderer\"},{\"attributes\":{\"overlay\":{\"id\":\"c68b9dc6-ec6c-4485-8a1f-d5467d96ca3a\",\"type\":\"BoxAnnotation\"}},\"id\":\"f9a17609-caa8-4d6e-a171-24498f4060ba\",\"type\":\"BoxZoomTool\"},{\"attributes\":{},\"id\":\"1f803ce3-2193-4b34-bd6e-9dbeb6d7573d\",\"type\":\"HelpTool\"},{\"attributes\":{\"axis_label\":\"Proportion of Responses\",\"axis_label_text_font\":\"times\",\"axis_label_text_font_style\":\"normal\",\"axis_line_width\":{\"value\":1e-05},\"formatter\":{\"id\":\"bc41dc96-0d5c-4772-91ca-872edcfc95ed\",\"type\":\"BasicTickFormatter\"},\"plot\":{\"id\":\"8a01eab9-2b46-481e-93fc-56fa3cb8eab8\",\"subtype\":\"Figure\",\"type\":\"Plot\"},\"ticker\":{\"id\":\"e4d0ec35-4299-40ac-b342-80d17ac04053\",\"type\":\"BasicTicker\"}},\"id\":\"f366eac6-65e9-4145-a20f-e81fa23850c7\",\"type\":\"LinearAxis\"},{\"attributes\":{},\"id\":\"6e31915b-af8a-4d47-abe1-6c2ac3586a89\",\"type\":\"LinearScale\"},{\"attributes\":{},\"id\":\"c44de61d-c748-4ff2-a846-8ddbf8dbbbb0\",\"type\":\"WheelZoomTool\"},{\"attributes\":{},\"id\":\"ad3b0fe1-553c-4d4e-8584-84d3aafd76fe\",\"type\":\"LinearScale\"},{\"attributes\":{\"bottom\":{\"value\":0},\"fill_color\":{\"value\":\"skyblue\"},\"left\":{\"field\":\"left\"},\"line_color\":{\"value\":\"grey\"},\"right\":{\"field\":\"right\"},\"top\":{\"field\":\"top\"}},\"id\":\"e2caed60-cafb-4368-869a-062e42d6465e\",\"type\":\"Quad\"},{\"attributes\":{\"callback\":null},\"id\":\"fdf7b07e-51ae-47f8-a87e-33eb8eb7be0b\",\"type\":\"DataRange1d\"},{\"attributes\":{\"grid_line_color\":{\"value\":null},\"plot\":{\"id\":\"8a01eab9-2b46-481e-93fc-56fa3cb8eab8\",\"subtype\":\"Figure\",\"type\":\"Plot\"},\"ticker\":{\"id\":\"33748864-a41f-46ea-a540-ba8eb2fde86d\",\"type\":\"BasicTicker\"}},\"id\":\"a02d6450-74d7-4273-8aa0-7e238be5cef5\",\"type\":\"Grid\"},{\"attributes\":{\"active_drag\":\"auto\",\"active_inspect\":\"auto\",\"active_scroll\":\"auto\",\"active_tap\":\"auto\",\"logo\":null,\"tools\":[{\"id\":\"de2df723-bac4-4ccd-9b77-e6239712a546\",\"type\":\"PanTool\"},{\"id\":\"c44de61d-c748-4ff2-a846-8ddbf8dbbbb0\",\"type\":\"WheelZoomTool\"},{\"id\":\"f9a17609-caa8-4d6e-a171-24498f4060ba\",\"type\":\"BoxZoomTool\"},{\"id\":\"06a67257-ed3a-417c-9239-e0ab69d6f48d\",\"type\":\"SaveTool\"},{\"id\":\"c0ede611-2634-4fef-9e05-1b2fd5dd6746\",\"type\":\"ResetTool\"},{\"id\":\"1f803ce3-2193-4b34-bd6e-9dbeb6d7573d\",\"type\":\"HelpTool\"}]},\"id\":\"7e608cf5-ab79-4978-9551-eda040b67285\",\"type\":\"Toolbar\"},{\"attributes\":{},\"id\":\"2a4ff928-51d9-4484-97c8-eb31e1d9e903\",\"type\":\"UnionRenderers\"},{\"attributes\":{\"callback\":null},\"id\":\"bc782b3a-b210-4ac4-9f95-95d9a2a89989\",\"type\":\"DataRange1d\"},{\"attributes\":{\"plot\":null,\"text\":\"Frequency of Number of Jokes Rated\",\"text_font\":\"times\",\"text_font_style\":\"normal\"},\"id\":\"5b82631c-7181-48a9-9e51-e18f0af6ffec\",\"type\":\"Title\"},{\"attributes\":{},\"id\":\"c3df2f0b-5bd1-4142-8c70-1ac0b7e1102c\",\"type\":\"Selection\"},{\"attributes\":{},\"id\":\"de2df723-bac4-4ccd-9b77-e6239712a546\",\"type\":\"PanTool\"},{\"attributes\":{\"source\":{\"id\":\"77fdb327-bdce-4c9e-8c0b-82fe735d3c5a\",\"type\":\"ColumnDataSource\"}},\"id\":\"5878b614-cf1e-4bff-847a-0facfa5a751d\",\"type\":\"CDSView\"},{\"attributes\":{},\"id\":\"bc41dc96-0d5c-4772-91ca-872edcfc95ed\",\"type\":\"BasicTickFormatter\"},{\"attributes\":{\"bottom_units\":\"screen\",\"fill_alpha\":{\"value\":0.5},\"fill_color\":{\"value\":\"lightgrey\"},\"left_units\":\"screen\",\"level\":\"overlay\",\"line_alpha\":{\"value\":1.0},\"line_color\":{\"value\":\"black\"},\"line_dash\":[4,4],\"line_width\":{\"value\":2},\"plot\":null,\"render_mode\":\"css\",\"right_units\":\"screen\",\"top_units\":\"screen\"},\"id\":\"c68b9dc6-ec6c-4485-8a1f-d5467d96ca3a\",\"type\":\"BoxAnnotation\"},{\"attributes\":{\"below\":[{\"id\":\"971d84fe-5e20-4e71-95e4-1a90265b1abd\",\"type\":\"LinearAxis\"}],\"left\":[{\"id\":\"f366eac6-65e9-4145-a20f-e81fa23850c7\",\"type\":\"LinearAxis\"}],\"outline_line_color\":{\"value\":null},\"renderers\":[{\"id\":\"971d84fe-5e20-4e71-95e4-1a90265b1abd\",\"type\":\"LinearAxis\"},{\"id\":\"a02d6450-74d7-4273-8aa0-7e238be5cef5\",\"type\":\"Grid\"},{\"id\":\"f366eac6-65e9-4145-a20f-e81fa23850c7\",\"type\":\"LinearAxis\"},{\"id\":\"628a9c43-d133-4df4-a284-a8cac27e8e16\",\"type\":\"Grid\"},{\"id\":\"c68b9dc6-ec6c-4485-8a1f-d5467d96ca3a\",\"type\":\"BoxAnnotation\"},{\"id\":\"2906c607-4000-4d8e-8d04-c49c4e583fb1\",\"type\":\"GlyphRenderer\"}],\"title\":{\"id\":\"5b82631c-7181-48a9-9e51-e18f0af6ffec\",\"type\":\"Title\"},\"toolbar\":{\"id\":\"7e608cf5-ab79-4978-9551-eda040b67285\",\"type\":\"Toolbar\"},\"toolbar_location\":null,\"x_range\":{\"id\":\"bc782b3a-b210-4ac4-9f95-95d9a2a89989\",\"type\":\"DataRange1d\"},\"x_scale\":{\"id\":\"6e31915b-af8a-4d47-abe1-6c2ac3586a89\",\"type\":\"LinearScale\"},\"y_range\":{\"id\":\"fdf7b07e-51ae-47f8-a87e-33eb8eb7be0b\",\"type\":\"DataRange1d\"},\"y_scale\":{\"id\":\"ad3b0fe1-553c-4d4e-8584-84d3aafd76fe\",\"type\":\"LinearScale\"}},\"id\":\"8a01eab9-2b46-481e-93fc-56fa3cb8eab8\",\"subtype\":\"Figure\",\"type\":\"Plot\"},{\"attributes\":{\"callback\":null,\"data\":{\"left\":{\"__ndarray__\":\"AAAAAAAAQkARERERERFDQCIiIiIiIkRAMzMzMzMzRUBERERERERGQFVVVVVVVUdAZmZmZmZmSEB4d3d3d3dJQIiIiIiIiEpAmpmZmZmZS0CqqqqqqqpMQLy7u7u7u01AzczMzMzMTkDe3d3d3d1PQHh3d3d3d1BAAAAAAAAAUUCIiIiIiIhRQBEREREREVJAmpmZmZmZUkAiIiIiIiJTQKqqqqqqqlNAMzMzMzMzVEC8u7u7u7tUQERERERERFVAzczMzMzMVUBWVVVVVVVWQN7d3d3d3VZAZmZmZmZmV0Dv7u7u7u5XQHh3d3d3d1hA\",\"dtype\":\"float64\",\"shape\":[30]},\"right\":{\"__ndarray__\":\"ERERERERQ0AiIiIiIiJEQDMzMzMzM0VARERERERERkBVVVVVVVVHQGZmZmZmZkhAeHd3d3d3SUCIiIiIiIhKQJqZmZmZmUtAqqqqqqqqTEC8u7u7u7tNQM3MzMzMzE5A3t3d3d3dT0B4d3d3d3dQQAAAAAAAAFFAiIiIiIiIUUARERERERFSQJqZmZmZmVJAIiIiIiIiU0CqqqqqqqpTQDMzMzMzM1RAvLu7u7u7VEBERERERERVQM3MzMzMzFVAVlVVVVVVVkDe3d3d3d1WQGZmZmZmZldA7+7u7u7uV0B4d3d3d3dYQAAAAAAAAFlA\",\"dtype\":\"float64\",\"shape\":[30]},\"top\":{\"__ndarray__\":\"CodqPMgNmT9l1F9I/6mOP8+ACtk1b40/JtmvoStSiz/DgyrtAVyLP6zXn5fFW4w/o97Pjslmhz9O1o+NX2WNP3c4hWElQIQ/kzpFxALegj+5PYUTyY+AP/M9FTFGcoA/Sik1pLH4fj8M5b8P2eeCPzuTCsjyhYA/ntcPekh5jD/m17/SvyCsP13ju6BWFqQ/EDv1HHqFgj9ZjcqfWqx0P/81FabQ+nU/kzyVRF1ecT8HPbV/VyNxP4aN6tpUcWQ/6jtVzmjUYT+2iyp4d9NlP0qQ6rMmmWI/qDZVHMWEZT9JOVX1lqxjP0o8rXokqME/\",\"dtype\":\"float64\",\"shape\":[30]}},\"selected\":{\"id\":\"c3df2f0b-5bd1-4142-8c70-1ac0b7e1102c\",\"type\":\"Selection\"},\"selection_policy\":{\"id\":\"2a4ff928-51d9-4484-97c8-eb31e1d9e903\",\"type\":\"UnionRenderers\"}},\"id\":\"77fdb327-bdce-4c9e-8c0b-82fe735d3c5a\",\"type\":\"ColumnDataSource\"},{\"attributes\":{\"bottom\":{\"value\":0},\"fill_alpha\":{\"value\":0.1},\"fill_color\":{\"value\":\"#1f77b4\"},\"left\":{\"field\":\"left\"},\"line_alpha\":{\"value\":0.1},\"line_color\":{\"value\":\"#1f77b4\"},\"right\":{\"field\":\"right\"},\"top\":{\"field\":\"top\"}},\"id\":\"14fd8a46-6855-4bbb-a9fb-368df2eebdc7\",\"type\":\"Quad\"}],\"root_ids\":[\"8a01eab9-2b46-481e-93fc-56fa3cb8eab8\"]},\"title\":\"Bokeh Application\",\"version\":\"0.12.16\"}};\n",
       "  var render_items = [{\"docid\":\"49279aff-c5dc-48f9-8ef7-754457b84fde\",\"elementid\":\"bff8ce4e-ea26-4ea7-a429-fc47f8fabbf2\",\"modelid\":\"8a01eab9-2b46-481e-93fc-56fa3cb8eab8\"}];\n",
       "  root.Bokeh.embed.embed_items_notebook(docs_json, render_items);\n",
       "\n",
       "  }\n",
       "  if (root.Bokeh !== undefined) {\n",
       "    embed_document(root);\n",
       "  } else {\n",
       "    var attempts = 0;\n",
       "    var timer = setInterval(function(root) {\n",
       "      if (root.Bokeh !== undefined) {\n",
       "        embed_document(root);\n",
       "        clearInterval(timer);\n",
       "      }\n",
       "      attempts++;\n",
       "      if (attempts > 100) {\n",
       "        console.log(\"Bokeh: ERROR: Unable to run BokehJS code because BokehJS library is missing\")\n",
       "        clearInterval(timer);\n",
       "      }\n",
       "    }, 10, root)\n",
       "  }\n",
       "})(window);"
      ],
      "application/vnd.bokehjs_exec.v0+json": ""
     },
     "metadata": {
      "application/vnd.bokehjs_exec.v0+json": {
       "id": "8a01eab9-2b46-481e-93fc-56fa3cb8eab8"
      }
     },
     "output_type": "display_data"
    }
   ],
   "source": [
    "from bokeh.layouts import gridplot\n",
    "from bokeh.plotting import figure, show, output_file\n",
    "\n",
    "p1 = figure(title=\"Frequency of Number of Jokes Rated\")\n",
    "\n",
    "hist, edges = np.histogram(df[0], density=True, bins=30)\n",
    "\n",
    "#x = np.linspace(-2, 2, 1000)\n",
    "p1.quad(top=hist, bottom=0, left=edges[:-1], right=edges[1:],\n",
    "    fill_color=\"skyblue\", line_color=\"grey\")\n",
    "p1.xaxis.axis_label = 'Total Jokes Rated'\n",
    "p1.yaxis.axis_label = 'Proportion of Responses'\n",
    "p1 = remover(p1)\n",
    "show(p1)"
   ]
  },
  {
   "cell_type": "markdown",
   "metadata": {},
   "source": [
    "We have some complete cases here, however, even if complete cases were not correlated with joke preferences, we still would be thowing out a crazy amount of data for training. \n",
    "\n",
    "Since we must train on data that is not a complete case, we need to validate it. Because we must predict NA values for people who have been used as training sets, we need a way to validate.\n",
    "\n",
    "To do this we can select random ratings to be our test set."
   ]
  },
  {
   "cell_type": "markdown",
   "metadata": {
    "ein.tags": "worksheet-0",
    "slideshow": {
     "slide_type": "-"
    }
   },
   "source": [
    "I removed the first column because it was the number of jokes answered.\n",
    "\n",
    "This is less interesting to us because we don't need to understand how many jokes\n",
    "were answered. "
   ]
  },
  {
   "cell_type": "code",
   "execution_count": 105,
   "metadata": {
    "autoscroll": false,
    "ein.hycell": false,
    "ein.tags": "worksheet-0",
    "slideshow": {
     "slide_type": "-"
    }
   },
   "outputs": [
    {
     "data": {
      "text/html": [
       "\n",
       "<div class=\"bk-root\">\n",
       "    <div class=\"bk-plotdiv\" id=\"8cb4b906-496a-4003-b421-a7040dbcaf0e\"></div>\n",
       "</div>"
      ]
     },
     "metadata": {},
     "output_type": "display_data"
    },
    {
     "data": {
      "application/javascript": [
       "(function(root) {\n",
       "  function embed_document(root) {\n",
       "    \n",
       "  var docs_json = {\"84d5b699-2ba5-4da7-9c05-a190ba2f0ec9\":{\"roots\":{\"references\":[{\"attributes\":{\"axis_label_text_font\":\"times\",\"axis_label_text_font_style\":\"normal\",\"axis_line_width\":{\"value\":1e-05},\"formatter\":{\"id\":\"602554fb-ab57-4077-a329-1792952d5d73\",\"type\":\"BasicTickFormatter\"},\"plot\":{\"id\":\"cf1c32b1-95ae-483a-b81a-b6d4e01b4113\",\"subtype\":\"Figure\",\"type\":\"Plot\"},\"ticker\":{\"id\":\"7e38160a-0a8b-4891-a19a-97d9d0beb4cd\",\"type\":\"BasicTicker\"}},\"id\":\"1f66d4a1-670f-40e0-b883-9ec4711697f1\",\"type\":\"LinearAxis\"},{\"attributes\":{},\"id\":\"0a43b647-60c7-43fd-8a39-8a7912f6793f\",\"type\":\"BasicTickFormatter\"},{\"attributes\":{},\"id\":\"39c7666a-3102-48de-b1b4-31c1585ff464\",\"type\":\"WheelZoomTool\"},{\"attributes\":{},\"id\":\"602554fb-ab57-4077-a329-1792952d5d73\",\"type\":\"BasicTickFormatter\"},{\"attributes\":{\"bottom_units\":\"screen\",\"fill_alpha\":{\"value\":0.5},\"fill_color\":{\"value\":\"lightgrey\"},\"left_units\":\"screen\",\"level\":\"overlay\",\"line_alpha\":{\"value\":1.0},\"line_color\":{\"value\":\"black\"},\"line_dash\":[4,4],\"line_width\":{\"value\":2},\"plot\":null,\"render_mode\":\"css\",\"right_units\":\"screen\",\"top_units\":\"screen\"},\"id\":\"536183e5-64b7-4113-8334-b5a13e0dc261\",\"type\":\"BoxAnnotation\"},{\"attributes\":{\"overlay\":{\"id\":\"536183e5-64b7-4113-8334-b5a13e0dc261\",\"type\":\"BoxAnnotation\"}},\"id\":\"d84868b8-2c0a-4a3c-a431-0257d9b9484a\",\"type\":\"BoxZoomTool\"},{\"attributes\":{\"below\":[{\"id\":\"2356033e-cb5c-46c4-bdf3-bd5e34c0cb41\",\"type\":\"LinearAxis\"}],\"left\":[{\"id\":\"1f66d4a1-670f-40e0-b883-9ec4711697f1\",\"type\":\"LinearAxis\"}],\"outline_line_color\":{\"value\":null},\"renderers\":[{\"id\":\"2356033e-cb5c-46c4-bdf3-bd5e34c0cb41\",\"type\":\"LinearAxis\"},{\"id\":\"f139d094-c431-4254-b13a-c72b3dad0fc7\",\"type\":\"Grid\"},{\"id\":\"1f66d4a1-670f-40e0-b883-9ec4711697f1\",\"type\":\"LinearAxis\"},{\"id\":\"fccfc42b-53a9-41f0-af15-9c0e74c43dd5\",\"type\":\"Grid\"},{\"id\":\"536183e5-64b7-4113-8334-b5a13e0dc261\",\"type\":\"BoxAnnotation\"},{\"id\":\"824e1c02-c329-4dd5-a40c-08f4f0cd82e7\",\"type\":\"GlyphRenderer\"}],\"title\":{\"id\":\"78a9a81d-9c4b-4111-a243-b96536d11141\",\"type\":\"Title\"},\"toolbar\":{\"id\":\"5d359733-5265-4838-a138-5cebfeebb4b3\",\"type\":\"Toolbar\"},\"toolbar_location\":null,\"x_range\":{\"id\":\"19877a89-e63e-411c-8114-0b2f1375ca34\",\"type\":\"DataRange1d\"},\"x_scale\":{\"id\":\"ca477d1e-0b38-4e40-ac4a-c18abb5f7c2d\",\"type\":\"LinearScale\"},\"y_range\":{\"id\":\"e927931d-98ad-49c5-b58f-75d884e7eaee\",\"type\":\"DataRange1d\"},\"y_scale\":{\"id\":\"345315e0-22f5-43c7-8b4a-3253d5aa4091\",\"type\":\"LinearScale\"}},\"id\":\"cf1c32b1-95ae-483a-b81a-b6d4e01b4113\",\"subtype\":\"Figure\",\"type\":\"Plot\"},{\"attributes\":{},\"id\":\"7ac419f4-3cdb-411f-a82f-926ef8b71429\",\"type\":\"SaveTool\"},{\"attributes\":{\"plot\":null,\"text\":\"Rating Distrobution\",\"text_font\":\"times\",\"text_font_style\":\"normal\"},\"id\":\"78a9a81d-9c4b-4111-a243-b96536d11141\",\"type\":\"Title\"},{\"attributes\":{},\"id\":\"1363ceb0-f12c-4725-95c1-2d0fa445dc44\",\"type\":\"ResetTool\"},{\"attributes\":{\"callback\":null},\"id\":\"19877a89-e63e-411c-8114-0b2f1375ca34\",\"type\":\"DataRange1d\"},{\"attributes\":{},\"id\":\"f051b14b-0304-4573-aa3c-a6b812cfc89f\",\"type\":\"HelpTool\"},{\"attributes\":{\"callback\":null,\"data\":{\"left\":{\"__ndarray__\":\"ZmZmZmbmI8BSuB6F65EiwD0K16NwPSHAUrgehevRH8AoXI/C9SgdwAAAAAAAgBrA16NwPQrXF8CuR+F6FC4VwIXrUbgehRLAuB6F61G4D8BmZmZmZmYKwBSuR+F6FAXAiOtRuB6F/7/gehSuR+H0v4AUrkfheuS/AJqZmZmZmT8QrkfhehTmP6hH4XoUrvU/KFyPwvUoAEB4FK5H4XoFQMzMzMzMzApAjsL1KFwPEEC4HoXrUbgSQOB6FK5HYRVACNejcD0KGEAwMzMzM7MaQFyPwvUoXB1AwvUoXI8CIEDWo3A9ClchQOpRuB6FqyJA\",\"dtype\":\"float64\",\"shape\":[30]},\"right\":{\"__ndarray__\":\"UrgeheuRIsA9CtejcD0hwFK4HoXr0R/AKFyPwvUoHcAAAAAAAIAawNejcD0K1xfArkfhehQuFcCF61G4HoUSwLgehetRuA/AZmZmZmZmCsAUrkfhehQFwIjrUbgehf+/4HoUrkfh9L+AFK5H4XrkvwCamZmZmZk/EK5H4XoU5j+oR+F6FK71Pyhcj8L1KABAeBSuR+F6BUDMzMzMzMwKQI7C9ShcDxBAuB6F61G4EkDgehSuR2EVQAjXo3A9ChhAMDMzMzOzGkBcj8L1KFwdQML1KFyPAiBA1qNwPQpXIUDqUbgehasiQAAAAAAAACRA\",\"dtype\":\"float64\",\"shape\":[30]},\"top\":{\"__ndarray__\":\"l8U0LRZupz8cZKKKVuKhP8qsR1jBPp8/igCtrZcLoD+J0a+d82CiP5p6xvmRIqI/ituuI0canT+jXSPDxg2iP7qIo7iXw6Q/HziopOI7oz+9l0xfbjSkPx4WACjHyqQ/LYUiDv1BpT+HszFYpmipP/pc7R8UDbU/DR4laTYusD/+1etASliwP0NPSMwks7E/JVT41W/Fsj/63yy7jTOyP/eRSVDllrI/YnmLuAfpsD/8W2oB0lawPxSDPNf0T68/RLHEAzG7rz8a52dXZieuP+Et5vX5/6k/Lq/p0nXIqz+SEKlZrAewPyDIGQnkSl4/\",\"dtype\":\"float64\",\"shape\":[30]}},\"selected\":{\"id\":\"5b8b5285-c11f-42ca-8a3f-3e7bd619f4c5\",\"type\":\"Selection\"},\"selection_policy\":{\"id\":\"2ade397b-fbea-4ccc-8c4d-9eb8aa6dcaa2\",\"type\":\"UnionRenderers\"}},\"id\":\"48f8a536-3b13-4f12-b3e5-58bd96926ac2\",\"type\":\"ColumnDataSource\"},{\"attributes\":{\"bottom\":{\"value\":0},\"fill_alpha\":{\"value\":0.1},\"fill_color\":{\"value\":\"#1f77b4\"},\"left\":{\"field\":\"left\"},\"line_alpha\":{\"value\":0.1},\"line_color\":{\"value\":\"#1f77b4\"},\"right\":{\"field\":\"right\"},\"top\":{\"field\":\"top\"}},\"id\":\"c72b5cfe-08c5-4637-ac86-55fa6f0a53a0\",\"type\":\"Quad\"},{\"attributes\":{\"bottom\":{\"value\":0},\"fill_color\":{\"value\":\"skyblue\"},\"left\":{\"field\":\"left\"},\"line_color\":{\"value\":\"grey\"},\"right\":{\"field\":\"right\"},\"top\":{\"field\":\"top\"}},\"id\":\"a3518ef8-2d74-49e0-9fe6-0698d16fd7ea\",\"type\":\"Quad\"},{\"attributes\":{\"active_drag\":\"auto\",\"active_inspect\":\"auto\",\"active_scroll\":\"auto\",\"active_tap\":\"auto\",\"logo\":null,\"tools\":[{\"id\":\"8a8d23c6-7011-47fb-9fd7-1b451e11aec3\",\"type\":\"PanTool\"},{\"id\":\"39c7666a-3102-48de-b1b4-31c1585ff464\",\"type\":\"WheelZoomTool\"},{\"id\":\"d84868b8-2c0a-4a3c-a431-0257d9b9484a\",\"type\":\"BoxZoomTool\"},{\"id\":\"7ac419f4-3cdb-411f-a82f-926ef8b71429\",\"type\":\"SaveTool\"},{\"id\":\"1363ceb0-f12c-4725-95c1-2d0fa445dc44\",\"type\":\"ResetTool\"},{\"id\":\"f051b14b-0304-4573-aa3c-a6b812cfc89f\",\"type\":\"HelpTool\"}]},\"id\":\"5d359733-5265-4838-a138-5cebfeebb4b3\",\"type\":\"Toolbar\"},{\"attributes\":{\"data_source\":{\"id\":\"48f8a536-3b13-4f12-b3e5-58bd96926ac2\",\"type\":\"ColumnDataSource\"},\"glyph\":{\"id\":\"a3518ef8-2d74-49e0-9fe6-0698d16fd7ea\",\"type\":\"Quad\"},\"hover_glyph\":null,\"muted_glyph\":null,\"nonselection_glyph\":{\"id\":\"c72b5cfe-08c5-4637-ac86-55fa6f0a53a0\",\"type\":\"Quad\"},\"selection_glyph\":null,\"view\":{\"id\":\"a40506a0-353d-4353-bc82-e79c38d039a3\",\"type\":\"CDSView\"}},\"id\":\"824e1c02-c329-4dd5-a40c-08f4f0cd82e7\",\"type\":\"GlyphRenderer\"},{\"attributes\":{},\"id\":\"5b8b5285-c11f-42ca-8a3f-3e7bd619f4c5\",\"type\":\"Selection\"},{\"attributes\":{\"dimension\":1,\"grid_line_color\":{\"value\":null},\"plot\":{\"id\":\"cf1c32b1-95ae-483a-b81a-b6d4e01b4113\",\"subtype\":\"Figure\",\"type\":\"Plot\"},\"ticker\":{\"id\":\"7e38160a-0a8b-4891-a19a-97d9d0beb4cd\",\"type\":\"BasicTicker\"}},\"id\":\"fccfc42b-53a9-41f0-af15-9c0e74c43dd5\",\"type\":\"Grid\"},{\"attributes\":{\"axis_label_text_font\":\"times\",\"axis_label_text_font_style\":\"normal\",\"axis_line_width\":{\"value\":1e-05},\"formatter\":{\"id\":\"0a43b647-60c7-43fd-8a39-8a7912f6793f\",\"type\":\"BasicTickFormatter\"},\"plot\":{\"id\":\"cf1c32b1-95ae-483a-b81a-b6d4e01b4113\",\"subtype\":\"Figure\",\"type\":\"Plot\"},\"ticker\":{\"id\":\"449ac373-ee10-40e9-beb2-98973b4337cb\",\"type\":\"BasicTicker\"}},\"id\":\"2356033e-cb5c-46c4-bdf3-bd5e34c0cb41\",\"type\":\"LinearAxis\"},{\"attributes\":{},\"id\":\"ca477d1e-0b38-4e40-ac4a-c18abb5f7c2d\",\"type\":\"LinearScale\"},{\"attributes\":{},\"id\":\"449ac373-ee10-40e9-beb2-98973b4337cb\",\"type\":\"BasicTicker\"},{\"attributes\":{},\"id\":\"2ade397b-fbea-4ccc-8c4d-9eb8aa6dcaa2\",\"type\":\"UnionRenderers\"},{\"attributes\":{},\"id\":\"8a8d23c6-7011-47fb-9fd7-1b451e11aec3\",\"type\":\"PanTool\"},{\"attributes\":{\"grid_line_color\":{\"value\":null},\"plot\":{\"id\":\"cf1c32b1-95ae-483a-b81a-b6d4e01b4113\",\"subtype\":\"Figure\",\"type\":\"Plot\"},\"ticker\":{\"id\":\"449ac373-ee10-40e9-beb2-98973b4337cb\",\"type\":\"BasicTicker\"}},\"id\":\"f139d094-c431-4254-b13a-c72b3dad0fc7\",\"type\":\"Grid\"},{\"attributes\":{\"callback\":null},\"id\":\"e927931d-98ad-49c5-b58f-75d884e7eaee\",\"type\":\"DataRange1d\"},{\"attributes\":{\"source\":{\"id\":\"48f8a536-3b13-4f12-b3e5-58bd96926ac2\",\"type\":\"ColumnDataSource\"}},\"id\":\"a40506a0-353d-4353-bc82-e79c38d039a3\",\"type\":\"CDSView\"},{\"attributes\":{},\"id\":\"7e38160a-0a8b-4891-a19a-97d9d0beb4cd\",\"type\":\"BasicTicker\"},{\"attributes\":{},\"id\":\"345315e0-22f5-43c7-8b4a-3253d5aa4091\",\"type\":\"LinearScale\"}],\"root_ids\":[\"cf1c32b1-95ae-483a-b81a-b6d4e01b4113\"]},\"title\":\"Bokeh Application\",\"version\":\"0.12.16\"}};\n",
       "  var render_items = [{\"docid\":\"84d5b699-2ba5-4da7-9c05-a190ba2f0ec9\",\"elementid\":\"8cb4b906-496a-4003-b421-a7040dbcaf0e\",\"modelid\":\"cf1c32b1-95ae-483a-b81a-b6d4e01b4113\"}];\n",
       "  root.Bokeh.embed.embed_items_notebook(docs_json, render_items);\n",
       "\n",
       "  }\n",
       "  if (root.Bokeh !== undefined) {\n",
       "    embed_document(root);\n",
       "  } else {\n",
       "    var attempts = 0;\n",
       "    var timer = setInterval(function(root) {\n",
       "      if (root.Bokeh !== undefined) {\n",
       "        embed_document(root);\n",
       "        clearInterval(timer);\n",
       "      }\n",
       "      attempts++;\n",
       "      if (attempts > 100) {\n",
       "        console.log(\"Bokeh: ERROR: Unable to run BokehJS code because BokehJS library is missing\")\n",
       "        clearInterval(timer);\n",
       "      }\n",
       "    }, 10, root)\n",
       "  }\n",
       "})(window);"
      ],
      "application/vnd.bokehjs_exec.v0+json": ""
     },
     "metadata": {
      "application/vnd.bokehjs_exec.v0+json": {
       "id": "cf1c32b1-95ae-483a-b81a-b6d4e01b4113"
      }
     },
     "output_type": "display_data"
    }
   ],
   "source": [
    "p1 = figure(title=\"Rating Distrobution\")\n",
    "allHist = pd.melt(jokes)\n",
    "hist, edges = np.histogram(allHist['value'].dropna(), density=True, bins=30)\n",
    "p1.quad(top=hist, bottom=0, left=edges[:-1], right=edges[1:],\n",
    "    fill_color=\"skyblue\", line_color=\"grey\")\n",
    "p1 = remover(p1)\n",
    "show(p1)"
   ]
  },
  {
   "cell_type": "markdown",
   "metadata": {
    "ein.tags": "worksheet-0",
    "slideshow": {
     "slide_type": "-"
    }
   },
   "source": [
    "The data looks like there is a preference for jokes just above average. Also,\n",
    "more people seem to be fine giving the max negative value indicating they hated\n",
    "the joke while less give the max positive value. Conversly, there are more people\n",
    "giving positive values.\n",
    "\n",
    "---\n",
    "\n",
    "## Simple Predictions\n",
    "\n",
    "We are tasked with predicting joke ratings for jokes that users have not yet\n",
    "rated. There is no way to verify what they will rate. Instead we will have to\n",
    "validate with a training and test set.\n",
    "\n",
    "Once we have some strategy, we can apply it to the `NA` values.\n",
    "\n",
    "Because the NA values are distributed amoung all but a few responders."
   ]
  },
  {
   "cell_type": "code",
   "execution_count": 107,
   "metadata": {
    "autoscroll": false,
    "ein.hycell": false,
    "ein.tags": "worksheet-0",
    "slideshow": {
     "slide_type": "-"
    }
   },
   "outputs": [
    {
     "data": {
      "text/plain": [
       "(24983, 100)"
      ]
     },
     "execution_count": 107,
     "metadata": {},
     "output_type": "execute_result"
    }
   ],
   "source": [
    "jokes.shape"
   ]
  },
  {
   "cell_type": "code",
   "execution_count": 127,
   "metadata": {},
   "outputs": [
    {
     "data": {
      "text/html": [
       "<div>\n",
       "<style>\n",
       "    .dataframe thead tr:only-child th {\n",
       "        text-align: right;\n",
       "    }\n",
       "\n",
       "    .dataframe thead th {\n",
       "        text-align: left;\n",
       "    }\n",
       "\n",
       "    .dataframe tbody tr th {\n",
       "        vertical-align: top;\n",
       "    }\n",
       "</style>\n",
       "<table border=\"1\" class=\"dataframe\">\n",
       "  <thead>\n",
       "    <tr style=\"text-align: right;\">\n",
       "      <th></th>\n",
       "      <th>0</th>\n",
       "      <th>1</th>\n",
       "      <th>2</th>\n",
       "      <th>3</th>\n",
       "      <th>4</th>\n",
       "      <th>5</th>\n",
       "      <th>6</th>\n",
       "      <th>7</th>\n",
       "      <th>8</th>\n",
       "      <th>9</th>\n",
       "      <th>...</th>\n",
       "      <th>90</th>\n",
       "      <th>91</th>\n",
       "      <th>92</th>\n",
       "      <th>93</th>\n",
       "      <th>94</th>\n",
       "      <th>95</th>\n",
       "      <th>96</th>\n",
       "      <th>97</th>\n",
       "      <th>98</th>\n",
       "      <th>99</th>\n",
       "    </tr>\n",
       "  </thead>\n",
       "  <tbody>\n",
       "    <tr>\n",
       "      <th>0</th>\n",
       "      <td>True</td>\n",
       "      <td>True</td>\n",
       "      <td>True</td>\n",
       "      <td>True</td>\n",
       "      <td>True</td>\n",
       "      <td>False</td>\n",
       "      <td>True</td>\n",
       "      <td>False</td>\n",
       "      <td>False</td>\n",
       "      <td>True</td>\n",
       "      <td>...</td>\n",
       "      <td>True</td>\n",
       "      <td>True</td>\n",
       "      <td>True</td>\n",
       "      <td>True</td>\n",
       "      <td>True</td>\n",
       "      <td>False</td>\n",
       "      <td>True</td>\n",
       "      <td>True</td>\n",
       "      <td>False</td>\n",
       "      <td>True</td>\n",
       "    </tr>\n",
       "    <tr>\n",
       "      <th>1</th>\n",
       "      <td>True</td>\n",
       "      <td>True</td>\n",
       "      <td>True</td>\n",
       "      <td>True</td>\n",
       "      <td>False</td>\n",
       "      <td>True</td>\n",
       "      <td>True</td>\n",
       "      <td>True</td>\n",
       "      <td>False</td>\n",
       "      <td>True</td>\n",
       "      <td>...</td>\n",
       "      <td>True</td>\n",
       "      <td>True</td>\n",
       "      <td>True</td>\n",
       "      <td>True</td>\n",
       "      <td>True</td>\n",
       "      <td>False</td>\n",
       "      <td>True</td>\n",
       "      <td>False</td>\n",
       "      <td>True</td>\n",
       "      <td>True</td>\n",
       "    </tr>\n",
       "    <tr>\n",
       "      <th>2</th>\n",
       "      <td>True</td>\n",
       "      <td>True</td>\n",
       "      <td>True</td>\n",
       "      <td>True</td>\n",
       "      <td>False</td>\n",
       "      <td>True</td>\n",
       "      <td>True</td>\n",
       "      <td>True</td>\n",
       "      <td>True</td>\n",
       "      <td>True</td>\n",
       "      <td>...</td>\n",
       "      <td>True</td>\n",
       "      <td>True</td>\n",
       "      <td>False</td>\n",
       "      <td>False</td>\n",
       "      <td>False</td>\n",
       "      <td>True</td>\n",
       "      <td>True</td>\n",
       "      <td>False</td>\n",
       "      <td>True</td>\n",
       "      <td>True</td>\n",
       "    </tr>\n",
       "    <tr>\n",
       "      <th>3</th>\n",
       "      <td>True</td>\n",
       "      <td>True</td>\n",
       "      <td>True</td>\n",
       "      <td>True</td>\n",
       "      <td>True</td>\n",
       "      <td>True</td>\n",
       "      <td>False</td>\n",
       "      <td>True</td>\n",
       "      <td>True</td>\n",
       "      <td>True</td>\n",
       "      <td>...</td>\n",
       "      <td>True</td>\n",
       "      <td>True</td>\n",
       "      <td>True</td>\n",
       "      <td>True</td>\n",
       "      <td>True</td>\n",
       "      <td>False</td>\n",
       "      <td>False</td>\n",
       "      <td>True</td>\n",
       "      <td>True</td>\n",
       "      <td>True</td>\n",
       "    </tr>\n",
       "    <tr>\n",
       "      <th>4</th>\n",
       "      <td>True</td>\n",
       "      <td>True</td>\n",
       "      <td>True</td>\n",
       "      <td>True</td>\n",
       "      <td>True</td>\n",
       "      <td>True</td>\n",
       "      <td>True</td>\n",
       "      <td>True</td>\n",
       "      <td>True</td>\n",
       "      <td>True</td>\n",
       "      <td>...</td>\n",
       "      <td>False</td>\n",
       "      <td>True</td>\n",
       "      <td>True</td>\n",
       "      <td>True</td>\n",
       "      <td>False</td>\n",
       "      <td>True</td>\n",
       "      <td>False</td>\n",
       "      <td>True</td>\n",
       "      <td>True</td>\n",
       "      <td>True</td>\n",
       "    </tr>\n",
       "  </tbody>\n",
       "</table>\n",
       "<p>5 rows × 100 columns</p>\n",
       "</div>"
      ],
      "text/plain": [
       "     0     1     2     3      4      5      6      7      8     9   ...   \\\n",
       "0  True  True  True  True   True  False   True  False  False  True  ...    \n",
       "1  True  True  True  True  False   True   True   True  False  True  ...    \n",
       "2  True  True  True  True  False   True   True   True   True  True  ...    \n",
       "3  True  True  True  True   True   True  False   True   True  True  ...    \n",
       "4  True  True  True  True   True   True   True   True   True  True  ...    \n",
       "\n",
       "      90    91     92     93     94     95     96     97     98    99  \n",
       "0   True  True   True   True   True  False   True   True  False  True  \n",
       "1   True  True   True   True   True  False   True  False   True  True  \n",
       "2   True  True  False  False  False   True   True  False   True  True  \n",
       "3   True  True   True   True   True  False  False   True   True  True  \n",
       "4  False  True   True   True  False   True  False   True   True  True  \n",
       "\n",
       "[5 rows x 100 columns]"
      ]
     },
     "execution_count": 127,
     "metadata": {},
     "output_type": "execute_result"
    }
   ],
   "source": [
    "np.random.seed(101)\n",
    "trainTestMask = np.random.choice([True, False], size=jokes.shape, p=[0.7, 0.3])\n",
    "trainTestMask = pd.DataFrame(trainTestMask)\n",
    "trainTestMask.head()"
   ]
  },
  {
   "cell_type": "markdown",
   "metadata": {},
   "source": [
    "This gives us a way to randomly select training and test sets, but we still need to test for NA values."
   ]
  },
  {
   "cell_type": "code",
   "execution_count": 144,
   "metadata": {},
   "outputs": [],
   "source": [
    "train = pd.DataFrame(np.where(trainTestMask, jokes, np.NAN))\n",
    "test = pd.DataFrame(np.where(np.invert(trainTestMask), jokes, np.NAN))"
   ]
  },
  {
   "cell_type": "markdown",
   "metadata": {},
   "source": [
    "We have our training and test data. We first need to calculate the mean for the total training set and calculate the RMSE on the test set. "
   ]
  },
  {
   "cell_type": "code",
   "execution_count": 158,
   "metadata": {},
   "outputs": [
    {
     "data": {
      "text/plain": [
       "0.8783613614046262"
      ]
     },
     "execution_count": 158,
     "metadata": {},
     "output_type": "execute_result"
    }
   ],
   "source": [
    "rawMean = train.stack().mean()\n",
    "rawMean"
   ]
  },
  {
   "cell_type": "markdown",
   "metadata": {},
   "source": [
    "The raw mean is close to zero. We will replace all na values with this and calculate the RMSE."
   ]
  },
  {
   "cell_type": "code",
   "execution_count": 150,
   "metadata": {},
   "outputs": [],
   "source": [
    "testRaw = train.fillna(value=rawMean)"
   ]
  },
  {
   "cell_type": "code",
   "execution_count": 166,
   "metadata": {},
   "outputs": [
    {
     "data": {
      "text/plain": [
       "5.2324418349094142"
      ]
     },
     "execution_count": 166,
     "metadata": {},
     "output_type": "execute_result"
    }
   ],
   "source": [
    "np.sqrt(((pd.melt(test)['value'] - rawMean)**2).mean()) #  This ignores NA values that were present before too."
   ]
  },
  {
   "cell_type": "code",
   "execution_count": 195,
   "metadata": {},
   "outputs": [
    {
     "data": {
      "text/plain": [
       "5.2373261451264863"
      ]
     },
     "execution_count": 195,
     "metadata": {},
     "output_type": "execute_result"
    }
   ],
   "source": [
    "np.sqrt(((pd.melt(train)['value'] - rawMean)**2).mean()) #  This ignores NA values that were present before too."
   ]
  },
  {
   "cell_type": "markdown",
   "metadata": {},
   "source": [
    "So we have a RMSE of 5.23 for the test set and surprisingly, a higher one for the training set. This is a bit weird because we would expect some over fitting. However, given that we are just taking the meanit is unlikely there is a statistical difference. "
   ]
  },
  {
   "cell_type": "markdown",
   "metadata": {},
   "source": [
    "## More accuracy\n",
    "\n",
    "To get more accuracy, we will need to add the column means and row means to the raw mean.\n",
    "\n",
    "The formula should look like:\n",
    "\n",
    "$$\n",
    "pred = RawMean+SpecificColumnMean+SpecificRowMean\n",
    "$$\n",
    "\n",
    "Another way to think of it is:\n",
    "\n",
    "$$\n",
    "pred_{i,j} = RawMean + RowMean_j + ColMean_i\n",
    "$$"
   ]
  },
  {
   "cell_type": "code",
   "execution_count": 170,
   "metadata": {},
   "outputs": [],
   "source": [
    "colMean = train.mean()\n",
    "rowMean = train.mean(axis=1)"
   ]
  },
  {
   "cell_type": "code",
   "execution_count": 188,
   "metadata": {},
   "outputs": [],
   "source": [
    "preds = np.full(jokes.shape, rawMean)\n",
    "preds += colMean\n",
    "preds =preds + rowMean[:,np.newaxis]"
   ]
  },
  {
   "cell_type": "code",
   "execution_count": 190,
   "metadata": {},
   "outputs": [
    {
     "data": {
      "text/html": [
       "<div>\n",
       "<style>\n",
       "    .dataframe thead tr:only-child th {\n",
       "        text-align: right;\n",
       "    }\n",
       "\n",
       "    .dataframe thead th {\n",
       "        text-align: left;\n",
       "    }\n",
       "\n",
       "    .dataframe tbody tr th {\n",
       "        vertical-align: top;\n",
       "    }\n",
       "</style>\n",
       "<table border=\"1\" class=\"dataframe\">\n",
       "  <thead>\n",
       "    <tr style=\"text-align: right;\">\n",
       "      <th></th>\n",
       "      <th>0</th>\n",
       "      <th>1</th>\n",
       "      <th>2</th>\n",
       "      <th>3</th>\n",
       "      <th>4</th>\n",
       "      <th>5</th>\n",
       "      <th>6</th>\n",
       "      <th>7</th>\n",
       "      <th>8</th>\n",
       "      <th>9</th>\n",
       "      <th>...</th>\n",
       "      <th>90</th>\n",
       "      <th>91</th>\n",
       "      <th>92</th>\n",
       "      <th>93</th>\n",
       "      <th>94</th>\n",
       "      <th>95</th>\n",
       "      <th>96</th>\n",
       "      <th>97</th>\n",
       "      <th>98</th>\n",
       "      <th>99</th>\n",
       "    </tr>\n",
       "  </thead>\n",
       "  <tbody>\n",
       "    <tr>\n",
       "      <th>0</th>\n",
       "      <td>-1.885926</td>\n",
       "      <td>-2.646217</td>\n",
       "      <td>-2.469234</td>\n",
       "      <td>-4.251214</td>\n",
       "      <td>-2.334262</td>\n",
       "      <td>-1.162556</td>\n",
       "      <td>-3.202825</td>\n",
       "      <td>-3.425682</td>\n",
       "      <td>-3.344824</td>\n",
       "      <td>-1.531391</td>\n",
       "      <td>...</td>\n",
       "      <td>-0.757232</td>\n",
       "      <td>-1.621067</td>\n",
       "      <td>-0.324863</td>\n",
       "      <td>-1.583458</td>\n",
       "      <td>-1.836889</td>\n",
       "      <td>-1.352553</td>\n",
       "      <td>-1.123196</td>\n",
       "      <td>-2.061757</td>\n",
       "      <td>-2.840812</td>\n",
       "      <td>-1.467379</td>\n",
       "    </tr>\n",
       "    <tr>\n",
       "      <th>1</th>\n",
       "      <td>3.927500</td>\n",
       "      <td>3.167209</td>\n",
       "      <td>3.344193</td>\n",
       "      <td>1.562212</td>\n",
       "      <td>3.479165</td>\n",
       "      <td>4.650870</td>\n",
       "      <td>2.610602</td>\n",
       "      <td>2.387745</td>\n",
       "      <td>2.468603</td>\n",
       "      <td>4.282036</td>\n",
       "      <td>...</td>\n",
       "      <td>5.056195</td>\n",
       "      <td>4.192359</td>\n",
       "      <td>5.488563</td>\n",
       "      <td>4.229969</td>\n",
       "      <td>3.976538</td>\n",
       "      <td>4.460873</td>\n",
       "      <td>4.690230</td>\n",
       "      <td>3.751670</td>\n",
       "      <td>2.972614</td>\n",
       "      <td>4.346047</td>\n",
       "    </tr>\n",
       "    <tr>\n",
       "      <th>2</th>\n",
       "      <td>8.840250</td>\n",
       "      <td>8.079959</td>\n",
       "      <td>8.256942</td>\n",
       "      <td>6.474962</td>\n",
       "      <td>8.391914</td>\n",
       "      <td>9.563620</td>\n",
       "      <td>7.523351</td>\n",
       "      <td>7.300494</td>\n",
       "      <td>7.381352</td>\n",
       "      <td>9.194785</td>\n",
       "      <td>...</td>\n",
       "      <td>9.968944</td>\n",
       "      <td>9.105109</td>\n",
       "      <td>10.401313</td>\n",
       "      <td>9.142718</td>\n",
       "      <td>8.889287</td>\n",
       "      <td>9.373623</td>\n",
       "      <td>9.602980</td>\n",
       "      <td>8.664419</td>\n",
       "      <td>7.885364</td>\n",
       "      <td>9.258797</td>\n",
       "    </tr>\n",
       "    <tr>\n",
       "      <th>3</th>\n",
       "      <td>5.250582</td>\n",
       "      <td>4.490291</td>\n",
       "      <td>4.667274</td>\n",
       "      <td>2.885294</td>\n",
       "      <td>4.802246</td>\n",
       "      <td>5.973952</td>\n",
       "      <td>3.933683</td>\n",
       "      <td>3.710827</td>\n",
       "      <td>3.791684</td>\n",
       "      <td>5.605117</td>\n",
       "      <td>...</td>\n",
       "      <td>6.379276</td>\n",
       "      <td>5.515441</td>\n",
       "      <td>6.811645</td>\n",
       "      <td>5.553050</td>\n",
       "      <td>5.299619</td>\n",
       "      <td>5.783955</td>\n",
       "      <td>6.013312</td>\n",
       "      <td>5.074751</td>\n",
       "      <td>4.295696</td>\n",
       "      <td>5.669129</td>\n",
       "    </tr>\n",
       "    <tr>\n",
       "      <th>4</th>\n",
       "      <td>5.170784</td>\n",
       "      <td>4.410493</td>\n",
       "      <td>4.587476</td>\n",
       "      <td>2.805496</td>\n",
       "      <td>4.722449</td>\n",
       "      <td>5.894154</td>\n",
       "      <td>3.853885</td>\n",
       "      <td>3.631029</td>\n",
       "      <td>3.711887</td>\n",
       "      <td>5.525319</td>\n",
       "      <td>...</td>\n",
       "      <td>6.299478</td>\n",
       "      <td>5.435643</td>\n",
       "      <td>6.731847</td>\n",
       "      <td>5.473252</td>\n",
       "      <td>5.219822</td>\n",
       "      <td>5.704157</td>\n",
       "      <td>5.933514</td>\n",
       "      <td>4.994953</td>\n",
       "      <td>4.215898</td>\n",
       "      <td>5.589331</td>\n",
       "    </tr>\n",
       "  </tbody>\n",
       "</table>\n",
       "<p>5 rows × 100 columns</p>\n",
       "</div>"
      ],
      "text/plain": [
       "         0         1         2         3         4         5         6   \\\n",
       "0 -1.885926 -2.646217 -2.469234 -4.251214 -2.334262 -1.162556 -3.202825   \n",
       "1  3.927500  3.167209  3.344193  1.562212  3.479165  4.650870  2.610602   \n",
       "2  8.840250  8.079959  8.256942  6.474962  8.391914  9.563620  7.523351   \n",
       "3  5.250582  4.490291  4.667274  2.885294  4.802246  5.973952  3.933683   \n",
       "4  5.170784  4.410493  4.587476  2.805496  4.722449  5.894154  3.853885   \n",
       "\n",
       "         7         8         9     ...           90        91         92  \\\n",
       "0 -3.425682 -3.344824 -1.531391    ...    -0.757232 -1.621067  -0.324863   \n",
       "1  2.387745  2.468603  4.282036    ...     5.056195  4.192359   5.488563   \n",
       "2  7.300494  7.381352  9.194785    ...     9.968944  9.105109  10.401313   \n",
       "3  3.710827  3.791684  5.605117    ...     6.379276  5.515441   6.811645   \n",
       "4  3.631029  3.711887  5.525319    ...     6.299478  5.435643   6.731847   \n",
       "\n",
       "         93        94        95        96        97        98        99  \n",
       "0 -1.583458 -1.836889 -1.352553 -1.123196 -2.061757 -2.840812 -1.467379  \n",
       "1  4.229969  3.976538  4.460873  4.690230  3.751670  2.972614  4.346047  \n",
       "2  9.142718  8.889287  9.373623  9.602980  8.664419  7.885364  9.258797  \n",
       "3  5.553050  5.299619  5.783955  6.013312  5.074751  4.295696  5.669129  \n",
       "4  5.473252  5.219822  5.704157  5.933514  4.994953  4.215898  5.589331  \n",
       "\n",
       "[5 rows x 100 columns]"
      ]
     },
     "execution_count": 190,
     "metadata": {},
     "output_type": "execute_result"
    }
   ],
   "source": [
    "preds = pd.DataFrame(preds)\n",
    "preds.head()"
   ]
  },
  {
   "cell_type": "code",
   "execution_count": 193,
   "metadata": {},
   "outputs": [
    {
     "data": {
      "text/plain": [
       "4.68875588784186"
      ]
     },
     "execution_count": 193,
     "metadata": {},
     "output_type": "execute_result"
    }
   ],
   "source": [
    "np.sqrt(((preds - test)**2).stack().mean())"
   ]
  },
  {
   "cell_type": "code",
   "execution_count": 194,
   "metadata": {},
   "outputs": [
    {
     "data": {
      "text/plain": [
       "4.6173021500924856"
      ]
     },
     "execution_count": 194,
     "metadata": {},
     "output_type": "execute_result"
    }
   ],
   "source": [
    "np.sqrt(((preds - train)**2).stack().mean())"
   ]
  },
  {
   "cell_type": "markdown",
   "metadata": {},
   "source": [
    "Adding the column and row biases lead to significant imporovement of the RMSE. We now see the training data slightly overfitting when compared to the test data."
   ]
  },
  {
   "cell_type": "code",
   "execution_count": null,
   "metadata": {},
   "outputs": [],
   "source": []
  }
 ],
 "metadata": {
  "kernelspec": {
   "display_name": "Python 3",
   "language": "python",
   "name": "python3"
  },
  "language_info": {
   "codemirror_mode": {
    "name": "ipython",
    "version": 3
   },
   "file_extension": ".py",
   "mimetype": "text/x-python",
   "name": "python",
   "nbconvert_exporter": "python",
   "pygments_lexer": "ipython3",
   "version": "3.6.5"
  },
  "name": "KLukowiakAssignment1.ipynb"
 },
 "nbformat": 4,
 "nbformat_minor": 2
}
